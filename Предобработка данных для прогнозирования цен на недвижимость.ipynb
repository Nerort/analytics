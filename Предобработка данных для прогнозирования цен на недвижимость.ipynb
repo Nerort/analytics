{
  "cells": [
    {
      "cell_type": "markdown",
      "metadata": {
        "id": "-pzjjdWAgj1Q"
      },
      "source": [
        "# **Предобработка данных для прогнозирования цен на недвижимость**"
      ]
    },
    {
      "cell_type": "markdown",
      "metadata": {
        "id": "GWMYTn8U36W8"
      },
      "source": [
        "### Скачивание данных и импортирование библиотек"
      ]
    },
    {
      "cell_type": "code",
      "execution_count": 1,
      "metadata": {
        "id": "ICRvX7Tbtoew"
      },
      "outputs": [],
      "source": [
        "import numpy as np\n",
        "import pandas as pd\n",
        "from IPython.display import clear_output\n",
        "\n",
        "# sklearn models\n",
        "from sklearn.ensemble import RandomForestRegressor\n",
        "from sklearn.model_selection import cross_validate, KFold"
      ]
    },
    {
      "cell_type": "code",
      "execution_count": 2,
      "metadata": {
        "id": "6Z4rNeQVs73C"
      },
      "outputs": [],
      "source": [
        "# Скачиваем \"сырой\" датасет\n",
        "!wget -O data_wo_targets.csv \"https://drive.google.com/uc?export=download&id=1Fp6szjUwhLgGQktcnDAYV71Fwi-2ywOX\"\n",
        "clear_output()"
      ]
    },
    {
      "cell_type": "code",
      "execution_count": 104,
      "metadata": {
        "id": "rutHa2kEtcKu"
      },
      "outputs": [],
      "source": [
        "# Загрузим данные в переменную X\n",
        "X = pd.read_csv(\"data_wo_targets.csv\")"
      ]
    },
    {
      "cell_type": "markdown",
      "metadata": {
        "id": "2BSS79F-t6DV"
      },
      "source": [
        "### Заполнение пропусков - метод\n"
      ]
    },
    {
      "cell_type": "code",
      "execution_count": 105,
      "metadata": {
        "id": "pqYu2AaltkuK"
      },
      "outputs": [],
      "source": [
        "# Заполнение пропусков\n",
        "def fill_empty_gaps(data: pd.DataFrame, param: float) -> pd.DataFrame:\n",
        "  incomplete_columns = data.columns[data.isna().any()].tolist()\n",
        "\n",
        "  for i in incomplete_columns:\n",
        "    data[i] = data[i].fillna(param)\n",
        "  return data"
      ]
    },
    {
      "cell_type": "markdown",
      "metadata": {
        "id": "I108KtKmyYXv"
      },
      "source": [
        "Количество пропусков и их процентное соотношение"
      ]
    },
    {
      "cell_type": "code",
      "execution_count": null,
      "metadata": {
        "id": "VITi0EINyBM8"
      },
      "outputs": [],
      "source": [
        "insufficient_columns = X.columns[X.isna().any()].tolist()\n",
        "for i in insufficient_columns:\n",
        "  print(f'Столбец: {i}\\nПустых строк: {X[i].isna().sum()}\\nВсего строк: {len(X[i])}\\nПроцентное соотношение: {(X[i].isna().sum()/len(X[i]))*100:.2f}%\\n')"
      ]
    },
    {
      "cell_type": "markdown",
      "metadata": {
        "id": "g3tOcbC720Rb"
      },
      "source": [
        "### Подготовка параметров"
      ]
    },
    {
      "cell_type": "markdown",
      "metadata": {
        "id": "RYoWQ3l8281Y"
      },
      "source": [
        "Фиксация seed для повторяемости"
      ]
    },
    {
      "cell_type": "code",
      "execution_count": 108,
      "metadata": {
        "id": "TgErzAa-3ChA"
      },
      "outputs": [],
      "source": [
        "random_state = 42\n",
        "np.random.seed(random_state)"
      ]
    },
    {
      "cell_type": "markdown",
      "metadata": {
        "id": "Ra6ijGxN3KHt"
      },
      "source": [
        "Набор данных `y` не доступен, поэтому для проверки кода создаем его искусственно."
      ]
    },
    {
      "cell_type": "code",
      "execution_count": null,
      "metadata": {
        "id": "tRHTz6JY_-qi"
      },
      "outputs": [],
      "source": [
        "prices = np.random.randint(low=8e5, high=1e7, size=len(X), dtype=int)\n",
        "y = pd.DataFrame(\n",
        "    {\"id\": X[\"id\"], # Без данного стоблца не получится объединить X и y\n",
        "     \"price_doc\": prices})\n",
        "\n",
        "y.head(5)"
      ]
    },
    {
      "cell_type": "markdown",
      "metadata": {
        "id": "Lw_Qq5wUAZZf"
      },
      "source": [
        "Функция для предобработки данных"
      ]
    },
    {
      "cell_type": "code",
      "execution_count": 110,
      "metadata": {
        "id": "bbKhTDTpDAyq"
      },
      "outputs": [],
      "source": [
        "# Список столбцов с типом \"object\"\n",
        "object_columns = [i for i, k in X.dtypes.items() if k == 'object']\n",
        "\n",
        "\n",
        "def preparation(data: pd.DataFrame) -> pd.DataFrame:\n",
        "    \"\"\"\n",
        "    Выходные параметры:\n",
        "      data: pd.DataFrame\n",
        "        Исходные табличные данные формата pandas.\n",
        "\n",
        "    Возвращаемые элементы:\n",
        "        Предобработанные данные формата pandas.\n",
        "    \"\"\"\n",
        "\n",
        "    id = data[\"id\"]\n",
        "    data = fill_empty_gaps(data, 0) # заполнение пропусков\n",
        "    data = data.drop([\"id\", *object_columns], axis=1) # удаление лишних столбцов\n",
        "\n",
        "    data[\"id\"] = id\n",
        "    return data"
      ]
    },
    {
      "cell_type": "markdown",
      "metadata": {
        "id": "OiLp97z_ATEj"
      },
      "source": [
        "### Сохранение и демонстрация датафрейма"
      ]
    },
    {
      "cell_type": "markdown",
      "metadata": {},
      "source": [
        "Сохранение данных в файл \"data.csv\""
      ]
    },
    {
      "cell_type": "code",
      "execution_count": null,
      "metadata": {
        "id": "ZfoGr1nBfVXC"
      },
      "outputs": [],
      "source": [
        "X = preparation(X)\n",
        "X.to_csv(\"data.csv\", index=False)\n",
        "X_y = pd.merge(X, y, on='id')\n",
        "\n",
        "assert len(X_y) == len(y), \\\n",
        "    \"Что-то не так с `id`!\"\n",
        "\n",
        "X = X_y.drop([\"id\", \"price_doc\"], axis=1)\n",
        "X"
      ]
    },
    {
      "cell_type": "markdown",
      "metadata": {
        "id": "m1i2jyxECqKJ"
      },
      "source": [
        "Убедиться, что блокнот запускается без ошибок и код тренировки выполняется правильно."
      ]
    },
    {
      "cell_type": "code",
      "execution_count": null,
      "metadata": {
        "id": "4rTPVqHaIXxm"
      },
      "outputs": [],
      "source": [
        "# Примерное время выполнения ячейки - 2-3 мин. На Яндекс.Контесте ~2-4 мин.\n",
        "\n",
        "scores = cross_validate(RandomForestRegressor(n_estimators=5, random_state=random_state), X, y,\n",
        "                        cv=KFold(n_splits=5, shuffle=True, random_state=random_state),\n",
        "                        scoring=(\"r2\"),\n",
        "                        return_train_score=True)\n",
        "\n",
        "scores"
      ]
    },
    {
      "cell_type": "markdown",
      "metadata": {
        "id": "blKS2Ghh_Gdc"
      },
      "source": [
        "### Дополнительно"
      ]
    },
    {
      "cell_type": "markdown",
      "metadata": {
        "id": "0v1dVUni_oey"
      },
      "source": [
        "Всем объектам поменять строки на числа, так как почти у всех всего два признака"
      ]
    },
    {
      "cell_type": "code",
      "execution_count": null,
      "metadata": {
        "id": "XH6GOiHA_MMK"
      },
      "outputs": [],
      "source": [
        "object_columns = [i for i, k in X.dtypes.items() if k == 'object']\n",
        "for i in object_columns:\n",
        "  X[i] = X[i].astype('category')\n",
        "  X[i] = X[i].cat.codes"
      ]
    },
    {
      "cell_type": "markdown",
      "metadata": {
        "id": "d9G2aGG8_-GH"
      },
      "source": [
        "Так как в `ecology` больше двух признаков, можно разделить на столбцы"
      ]
    },
    {
      "cell_type": "code",
      "execution_count": null,
      "metadata": {
        "id": "iY02Qi6b_8zz"
      },
      "outputs": [],
      "source": [
        "X = pd.get_dummies(X, columns=['ecology'])"
      ]
    }
  ],
  "metadata": {
    "colab": {
      "gpuType": "T4",
      "provenance": []
    },
    "kernelspec": {
      "display_name": "Python 3",
      "name": "python3"
    },
    "language_info": {
      "name": "python"
    }
  },
  "nbformat": 4,
  "nbformat_minor": 0
}
